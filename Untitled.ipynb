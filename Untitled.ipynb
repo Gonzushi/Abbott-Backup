{
 "cells": [
  {
   "cell_type": "code",
   "execution_count": 118,
   "id": "b91e0ad2",
   "metadata": {},
   "outputs": [],
   "source": [
    "from selenium import webdriver\n",
    "from selenium.webdriver.common.by import By\n",
    "import undetected_chromedriver as uc\n",
    "from selenium.webdriver.support.ui import WebDriverWait\n",
    "import pandas as pd\n",
    "from IPython.display import clear_output\n",
    "from time import sleep"
   ]
  },
  {
   "cell_type": "code",
   "execution_count": 88,
   "id": "e10eda8f",
   "metadata": {},
   "outputs": [],
   "source": [
    "options = uc.ChromeOptions() \n",
    "driver = uc.Chrome(use_subprocess=True, options=options) \n",
    "wait = WebDriverWait(driver, timeout=10)\n",
    "driver.implicitly_wait(10)"
   ]
  },
  {
   "cell_type": "code",
   "execution_count": 119,
   "id": "721a3fb0",
   "metadata": {},
   "outputs": [],
   "source": [
    "df = pd.DataFrame({'message': []})"
   ]
  },
  {
   "cell_type": "code",
   "execution_count": 124,
   "id": "da97331a",
   "metadata": {},
   "outputs": [
    {
     "data": {
      "text/html": [
       "<div>\n",
       "<style scoped>\n",
       "    .dataframe tbody tr th:only-of-type {\n",
       "        vertical-align: middle;\n",
       "    }\n",
       "\n",
       "    .dataframe tbody tr th {\n",
       "        vertical-align: top;\n",
       "    }\n",
       "\n",
       "    .dataframe thead th {\n",
       "        text-align: right;\n",
       "    }\n",
       "</style>\n",
       "<table border=\"1\" class=\"dataframe\">\n",
       "  <thead>\n",
       "    <tr style=\"text-align: right;\">\n",
       "      <th></th>\n",
       "      <th>message</th>\n",
       "    </tr>\n",
       "  </thead>\n",
       "  <tbody>\n",
       "    <tr>\n",
       "      <th>989</th>\n",
       "      <td>You have been successfully entered in our contest</td>\n",
       "    </tr>\n",
       "    <tr>\n",
       "      <th>990</th>\n",
       "      <td>You have been successfully entered in our contest</td>\n",
       "    </tr>\n",
       "    <tr>\n",
       "      <th>991</th>\n",
       "      <td>You have been successfully entered in our contest</td>\n",
       "    </tr>\n",
       "    <tr>\n",
       "      <th>992</th>\n",
       "      <td>You have been successfully entered in our contest</td>\n",
       "    </tr>\n",
       "    <tr>\n",
       "      <th>993</th>\n",
       "      <td>You have been successfully entered in our contest</td>\n",
       "    </tr>\n",
       "    <tr>\n",
       "      <th>994</th>\n",
       "      <td>You have been successfully entered in our contest</td>\n",
       "    </tr>\n",
       "    <tr>\n",
       "      <th>995</th>\n",
       "      <td>You have been successfully entered in our contest</td>\n",
       "    </tr>\n",
       "    <tr>\n",
       "      <th>996</th>\n",
       "      <td>You have been successfully entered in our contest</td>\n",
       "    </tr>\n",
       "    <tr>\n",
       "      <th>997</th>\n",
       "      <td>You have been successfully entered in our contest</td>\n",
       "    </tr>\n",
       "    <tr>\n",
       "      <th>998</th>\n",
       "      <td>You have been successfully entered in our contest</td>\n",
       "    </tr>\n",
       "    <tr>\n",
       "      <th>999</th>\n",
       "      <td>You have been successfully entered in our contest</td>\n",
       "    </tr>\n",
       "  </tbody>\n",
       "</table>\n",
       "</div>"
      ],
      "text/plain": [
       "                                               message\n",
       "989  You have been successfully entered in our contest\n",
       "990  You have been successfully entered in our contest\n",
       "991  You have been successfully entered in our contest\n",
       "992  You have been successfully entered in our contest\n",
       "993  You have been successfully entered in our contest\n",
       "994  You have been successfully entered in our contest\n",
       "995  You have been successfully entered in our contest\n",
       "996  You have been successfully entered in our contest\n",
       "997  You have been successfully entered in our contest\n",
       "998  You have been successfully entered in our contest\n",
       "999  You have been successfully entered in our contest"
      ]
     },
     "metadata": {},
     "output_type": "display_data"
    }
   ],
   "source": [
    "for i in range(915, 1000):\n",
    "    driver.get('https://fragrancenet.com')\n",
    "    driver.find_element(By.XPATH, '//*[@id=\"partners\"]/div/a').click()\n",
    "    sleep(1)\n",
    "    driver.find_element(By.XPATH, '//*[@id=\"spree_name\"]').send_keys('Hendry Widyanto')\n",
    "    driver.find_element(By.XPATH, '//*[@id=\"spree_email\"]').send_keys('hendry.widyanto1234+{0}@gmail.com'.format(i))\n",
    "    driver.find_element(By.XPATH, '//*[@id=\"submitButton\"]').click()\n",
    "    sleep(1)\n",
    "    df.loc[i, 'message'] = driver.find_element(By.XPATH, '//*[@id=\"popup\"]/div/div/div/div[2]/div/div').text\n",
    "    clear_output(wait=True)\n",
    "    display(df[i-10:i+1])"
   ]
  },
  {
   "cell_type": "code",
   "execution_count": null,
   "id": "bcc24d14",
   "metadata": {},
   "outputs": [],
   "source": []
  }
 ],
 "metadata": {
  "kernelspec": {
   "display_name": "Python 3 (ipykernel)",
   "language": "python",
   "name": "python3"
  },
  "language_info": {
   "codemirror_mode": {
    "name": "ipython",
    "version": 3
   },
   "file_extension": ".py",
   "mimetype": "text/x-python",
   "name": "python",
   "nbconvert_exporter": "python",
   "pygments_lexer": "ipython3",
   "version": "3.10.5"
  }
 },
 "nbformat": 4,
 "nbformat_minor": 5
}
